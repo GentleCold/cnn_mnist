{
 "cells": [
  {
   "cell_type": "markdown",
   "metadata": {},
   "source": [
    "## 1. 数据集"
   ]
  },
  {
   "cell_type": "code",
   "execution_count": 1,
   "metadata": {},
   "outputs": [
    {
     "name": "stderr",
     "output_type": "stream",
     "text": [
      "/opt/anaconda/lib/python3.11/site-packages/torchvision/io/image.py:13: UserWarning: Failed to load image Python extension: '/opt/anaconda/lib/python3.11/site-packages/torchvision/image.so: undefined symbol: _ZN5torch3jit17parseSchemaOrNameERKNSt7__cxx1112basic_stringIcSt11char_traitsIcESaIcEEE'If you don't plan on using image functionality from `torchvision.io`, you can ignore this warning. Otherwise, there might be something wrong with your environment. Did you have `libjpeg` or `libpng` installed before building `torchvision` from source?\n",
      "  warn(\n"
     ]
    },
    {
     "data": {
      "image/png": "[encoded data removed]",
      "text/plain": [
       "<Figure size 1000x100 with 10 Axes>"
      ]
     },
     "metadata": {},
     "output_type": "display_data"
    }
   ],
   "source": [
    "from data.data_handler import DataHandler\n",
    "import matplotlib.pyplot as plt\n",
    "import numpy as np\n",
    "\n",
    "data = DataHandler(64)\n",
    "images = data.train_data.dataset.data[:10]\n",
    "labels = data.train_data.dataset.targets[:10]\n",
    "\n",
    "images = np.array(images)\n",
    "\n",
    "fig, axes = plt.subplots(1, 10, figsize=(10, 1))\n",
    "for i, ax in enumerate(axes):\n",
    "    ax.imshow(images[i], cmap='gray')\n",
    "    ax.axis('off')\n",
    "    ax.set_title(labels[i].item())\n",
    "plt.show()"
   ]
  },
  {
   "cell_type": "markdown",
   "metadata": {},
   "source": [
    "## 2. 模型横向对比"
   ]
  },
  {
   "cell_type": "markdown",
   "metadata": {},
   "source": [
    "### 2.1 LeNet"
   ]
  },
  {
   "cell_type": "code",
   "execution_count": 44,
   "metadata": {},
   "outputs": [],
   "source": [
    "import torch\n",
    "torch.cuda.empty_cache()\n",
    "import os\n",
    "os.environ[\"PYTORCH_CUDA_ALLOC_CONF\"] = \"max_split_size_mb:100\""
   ]
  },
  {
   "cell_type": "code",
   "execution_count": 1,
   "metadata": {},
   "outputs": [
    {
     "name": "stderr",
     "output_type": "stream",
     "text": [
      "/opt/anaconda/lib/python3.11/site-packages/torchvision/io/image.py:13: UserWarning: Failed to load image Python extension: '/opt/anaconda/lib/python3.11/site-packages/torchvision/image.so: undefined symbol: _ZN5torch3jit17parseSchemaOrNameERKNSt7__cxx1112basic_stringIcSt11char_traitsIcESaIcEEE'If you don't plan on using image functionality from `torchvision.io`, you can ignore this warning. Otherwise, there might be something wrong with your environment. Did you have `libjpeg` or `libpng` installed before building `torchvision` from source?\n",
      "  warn(\n"
     ]
    },
    {
     "name": "stdout",
     "output_type": "stream",
     "text": [
      "===== Traning Info =====\n",
      "Device: cuda\n",
      "Model: lenet\n",
      "Model Info:\n",
      "\n",
      "==========================================================================================\n",
      "Layer (type:depth-idx)                   Output Shape              Param #\n",
      "==========================================================================================\n",
      "├─Conv2d: 1-1                            [-1, 6, 24, 24]           156\n",
      "├─Sigmoid: 1-2                           [-1, 6, 24, 24]           --\n",
      "├─MaxPool2d: 1-3                         [-1, 6, 12, 12]           --\n",
      "├─Conv2d: 1-4                            [-1, 16, 8, 8]            2,416\n",
      "├─Sigmoid: 1-5                           [-1, 16, 8, 8]            --\n",
      "├─MaxPool2d: 1-6                         [-1, 16, 4, 4]            --\n",
      "├─Linear: 1-7                            [-1, 120]                 30,840\n",
      "├─Sigmoid: 1-8                           [-1, 120]                 --\n",
      "├─Linear: 1-9                            [-1, 84]                  10,164\n",
      "├─Sigmoid: 1-10                          [-1, 84]                  --\n",
      "├─Linear: 1-11                           [-1, 10]                  850\n",
      "==========================================================================================\n",
      "Total params: 44,426\n",
      "Trainable params: 44,426\n",
      "Non-trainable params: 0\n",
      "Total mult-adds (M): 0.28\n",
      "==========================================================================================\n",
      "Input size (MB): 0.00\n",
      "Forward/backward pass size (MB): 0.04\n",
      "Params size (MB): 0.17\n",
      "Estimated Total Size (MB): 0.21\n",
      "==========================================================================================\n",
      "\n",
      "==== Starting Train ====\n"
     ]
    },
    {
     "name": "stderr",
     "output_type": "stream",
     "text": [
      "100%|██████████| 375/375 [00:06<00:00, 58.40it/s]\n"
     ]
    },
    {
     "name": "stdout",
     "output_type": "stream",
     "text": [
      "Train Epoch 1\n",
      "Train set: \n",
      "Loss: 0.01398411733781298, Accuracy: 18470.0/48000(38.479200000000006 %)\n",
      "Val set: \n",
      "Loss: 0.00516190113623937, Accuracy: 10083.0/12000(84.025 %)\n",
      "\n"
     ]
    },
    {
     "name": "stderr",
     "output_type": "stream",
     "text": [
      "100%|██████████| 375/375 [00:06<00:00, 59.40it/s]\n"
     ]
    },
    {
     "name": "stdout",
     "output_type": "stream",
     "text": [
      "Train Epoch 2\n",
      "Train set: \n",
      "Loss: 0.0028926388385395207, Accuracy: 43274.0/48000(90.15419999999999 %)\n",
      "Val set: \n",
      "Loss: 0.0019832240380346774, Accuracy: 11136.0/12000(92.80000000000001 %)\n",
      "\n"
     ]
    },
    {
     "name": "stderr",
     "output_type": "stream",
     "text": [
      "100%|██████████| 375/375 [00:06<00:00, 58.90it/s]\n"
     ]
    },
    {
     "name": "stdout",
     "output_type": "stream",
     "text": [
      "Train Epoch 3\n",
      "Train set: \n",
      "Loss: 0.0014696027220537265, Accuracy: 45449.0/48000(94.6854 %)\n",
      "Val set: \n",
      "Loss: 0.001425423610334595, Accuracy: 11346.0/12000(94.55 %)\n",
      "\n"
     ]
    },
    {
     "name": "stderr",
     "output_type": "stream",
     "text": [
      "100%|██████████| 375/375 [00:06<00:00, 59.92it/s]\n"
     ]
    },
    {
     "name": "stdout",
     "output_type": "stream",
     "text": [
      "Train Epoch 4\n",
      "Train set: \n",
      "Loss: 0.0010518123244401068, Accuracy: 46111.0/48000(96.0646 %)\n",
      "Val set: \n",
      "Loss: 0.0009798490141207973, Accuracy: 11562.0/12000(96.35000000000001 %)\n",
      "\n"
     ]
    },
    {
     "name": "stderr",
     "output_type": "stream",
     "text": [
      "100%|██████████| 375/375 [00:06<00:00, 59.89it/s]\n"
     ]
    },
    {
     "name": "stdout",
     "output_type": "stream",
     "text": [
      "Train Epoch 5\n",
      "Train set: \n",
      "Loss: 0.0008519376091426238, Accuracy: 46473.0/48000(96.8187 %)\n",
      "Val set: \n",
      "Loss: 0.0008342626745191713, Accuracy: 11610.0/12000(96.75 %)\n",
      "\n",
      "Test set: \n",
      "Loss: 0.0007002249571029097, Accuracy: 9744.0/10000(97.44 %)\n",
      "\n",
      "training time:  40.02324390411377\n"
     ]
    }
   ],
   "source": [
    "from train import Model\n",
    "import time\n",
    "\n",
    "lenet = Model(128, 5, 0.001, 0.5, \"lenet\", \"adamw\")\n",
    "\n",
    "start_time = time.time()\n",
    "lenet.train()\n",
    "end_time = time.time()\n",
    "\n",
    "print(\"training time: \", end_time - start_time)"
   ]
  },
  {
   "cell_type": "markdown",
   "metadata": {},
   "source": [
    "### 2.2 AlexNet"
   ]
  },
  {
   "cell_type": "code",
   "execution_count": 2,
   "metadata": {},
   "outputs": [
    {
     "name": "stdout",
     "output_type": "stream",
     "text": [
      "===== Traning Info =====\n",
      "Device: cuda\n",
      "Model: alexnet\n",
      "Model Info:\n",
      "\n",
      "==========================================================================================\n",
      "Layer (type:depth-idx)                   Output Shape              Param #\n",
      "==========================================================================================\n",
      "├─Sequential: 1-1                        [-1, 128, 7, 7]           --\n",
      "|    └─Upsample: 2-1                     [-1, 1, 56, 56]           --\n",
      "|    └─Conv2d: 2-2                       [-1, 48, 56, 56]          1,248\n",
      "|    └─ReLU: 2-3                         [-1, 48, 56, 56]          --\n",
      "|    └─MaxPool2d: 2-4                    [-1, 48, 28, 28]          --\n",
      "|    └─Conv2d: 2-5                       [-1, 128, 28, 28]         153,728\n",
      "|    └─ReLU: 2-6                         [-1, 128, 28, 28]         --\n",
      "|    └─MaxPool2d: 2-7                    [-1, 128, 14, 14]         --\n",
      "|    └─Conv2d: 2-8                       [-1, 192, 14, 14]         221,376\n",
      "|    └─ReLU: 2-9                         [-1, 192, 14, 14]         --\n",
      "|    └─Conv2d: 2-10                      [-1, 192, 14, 14]         331,968\n",
      "|    └─ReLU: 2-11                        [-1, 192, 14, 14]         --\n",
      "|    └─Conv2d: 2-12                      [-1, 128, 14, 14]         221,312\n",
      "|    └─ReLU: 2-13                        [-1, 128, 14, 14]         --\n",
      "|    └─MaxPool2d: 2-14                   [-1, 128, 7, 7]           --\n",
      "├─Sequential: 1-2                        [-1, 10]                  --\n",
      "|    └─Dropout: 2-15                     [-1, 6272]                --\n",
      "|    └─Linear: 2-16                      [-1, 4096]                25,694,208\n",
      "|    └─ReLU: 2-17                        [-1, 4096]                --\n",
      "|    └─Dropout: 2-18                     [-1, 4096]                --\n",
      "|    └─Linear: 2-19                      [-1, 4096]                16,781,312\n",
      "|    └─ReLU: 2-20                        [-1, 4096]                --\n",
      "|    └─Linear: 2-21                      [-1, 10]                  40,970\n",
      "==========================================================================================\n",
      "Total params: 43,446,122\n",
      "Trainable params: 43,446,122\n",
      "Non-trainable params: 0\n",
      "Total mult-adds (M): 361.86\n",
      "==========================================================================================\n",
      "Input size (MB): 0.00\n",
      "Forward/backward pass size (MB): 2.74\n",
      "Params size (MB): 165.73\n",
      "Estimated Total Size (MB): 168.48\n",
      "==========================================================================================\n",
      "\n",
      "==== Starting Train ====\n"
     ]
    },
    {
     "name": "stderr",
     "output_type": "stream",
     "text": [
      "100%|██████████| 375/375 [02:09<00:00,  2.89it/s]\n"
     ]
    },
    {
     "name": "stdout",
     "output_type": "stream",
     "text": [
      "Train Epoch 1\n",
      "Train set: \n",
      "Loss: 0.0021158735640347003, Accuracy: 43786.0/48000(91.2208 %)\n",
      "Val set: \n",
      "Loss: 0.0005109710626614591, Accuracy: 11785.0/12000(98.20830000000001 %)\n",
      "\n"
     ]
    },
    {
     "name": "stderr",
     "output_type": "stream",
     "text": [
      "100%|██████████| 375/375 [02:10<00:00,  2.87it/s]\n"
     ]
    },
    {
     "name": "stdout",
     "output_type": "stream",
     "text": [
      "Train Epoch 2\n",
      "Train set: \n",
      "Loss: 0.0005785378460859647, Accuracy: 46957.0/48000(97.8271 %)\n",
      "Val set: \n",
      "Loss: 0.0003923339929897338, Accuracy: 11828.0/12000(98.5667 %)\n",
      "\n"
     ]
    },
    {
     "name": "stderr",
     "output_type": "stream",
     "text": [
      "100%|██████████| 375/375 [02:10<00:00,  2.88it/s]\n"
     ]
    },
    {
     "name": "stdout",
     "output_type": "stream",
     "text": [
      "Train Epoch 3\n",
      "Train set: \n",
      "Loss: 0.0004782717157067964, Accuracy: 47129.0/48000(98.1854 %)\n",
      "Val set: \n",
      "Loss: 0.00028810954575116436, Accuracy: 11874.0/12000(98.95 %)\n",
      "\n"
     ]
    },
    {
     "name": "stderr",
     "output_type": "stream",
     "text": [
      "100%|██████████| 375/375 [02:11<00:00,  2.86it/s]\n"
     ]
    },
    {
     "name": "stdout",
     "output_type": "stream",
     "text": [
      "Train Epoch 4\n",
      "Train set: \n",
      "Loss: 0.00039514537013261966, Accuracy: 47292.0/48000(98.52499999999999 %)\n",
      "Val set: \n",
      "Loss: 0.00029686173952844303, Accuracy: 11881.0/12000(99.0083 %)\n",
      "\n"
     ]
    },
    {
     "name": "stderr",
     "output_type": "stream",
     "text": [
      "100%|██████████| 375/375 [02:09<00:00,  2.89it/s]\n"
     ]
    },
    {
     "name": "stdout",
     "output_type": "stream",
     "text": [
      "Train Epoch 5\n",
      "Train set: \n",
      "Loss: 0.0003464857793005649, Accuracy: 47363.0/48000(98.6729 %)\n",
      "Val set: \n",
      "Loss: 0.00027542279144593824, Accuracy: 11879.0/12000(98.99170000000001 %)\n",
      "\n",
      "Test set: \n",
      "Loss: 0.00021547183547263558, Accuracy: 9913.0/10000(99.13 %)\n",
      "\n",
      "training time:  708.3815813064575\n"
     ]
    }
   ],
   "source": [
    "from train import Model\n",
    "alexnet = Model(128, 5, 0.001, 0.5, \"alexnet\", \"adamw\")\n",
    "\n",
    "start_time = time.time()\n",
    "alexnet.train()\n",
    "end_time = time.time()\n",
    "\n",
    "print(\"training time: \", end_time - start_time)"
   ]
  },
  {
   "cell_type": "markdown",
   "metadata": {},
   "source": [
    "### 2.3 ResNet"
   ]
  },
  {
   "cell_type": "code",
   "execution_count": 4,
   "metadata": {},
   "outputs": [
    {
     "name": "stdout",
     "output_type": "stream",
     "text": [
      "===== Traning Info =====\n",
      "Device: cuda\n",
      "Model: resnet\n",
      "Model Info:\n",
      "\n",
      "==========================================================================================\n",
      "Layer (type:depth-idx)                   Output Shape              Param #\n",
      "==========================================================================================\n",
      "├─Sequential: 1-1                        [-1, 512, 1, 1]           --\n",
      "|    └─Upsample: 2-1                     [-1, 1, 56, 56]           --\n",
      "|    └─Conv2d: 2-2                       [-1, 64, 28, 28]          3,136\n",
      "|    └─BatchNorm2d: 2-3                  [-1, 64, 28, 28]          128\n",
      "|    └─ReLU: 2-4                         [-1, 64, 28, 28]          --\n",
      "|    └─MaxPool2d: 2-5                    [-1, 64, 14, 14]          --\n",
      "|    └─BasicBlock: 2-6                   [-1, 64, 14, 14]          --\n",
      "|    |    └─Conv2d: 3-1                  [-1, 64, 14, 14]          36,864\n",
      "|    |    └─BatchNorm2d: 3-2             [-1, 64, 14, 14]          128\n",
      "|    |    └─ReLU: 3-3                    [-1, 64, 14, 14]          --\n",
      "|    |    └─Conv2d: 3-4                  [-1, 64, 14, 14]          36,864\n",
      "|    |    └─BatchNorm2d: 3-5             [-1, 64, 14, 14]          128\n",
      "|    |    └─ReLU: 3-6                    [-1, 64, 14, 14]          --\n",
      "|    └─BasicBlock: 2-7                   [-1, 64, 14, 14]          --\n",
      "|    |    └─Conv2d: 3-7                  [-1, 64, 14, 14]          36,864\n",
      "|    |    └─BatchNorm2d: 3-8             [-1, 64, 14, 14]          128\n",
      "|    |    └─ReLU: 3-9                    [-1, 64, 14, 14]          --\n",
      "|    |    └─Conv2d: 3-10                 [-1, 64, 14, 14]          36,864\n",
      "|    |    └─BatchNorm2d: 3-11            [-1, 64, 14, 14]          128\n",
      "|    |    └─ReLU: 3-12                   [-1, 64, 14, 14]          --\n",
      "|    └─BasicBlock: 2-8                   [-1, 128, 7, 7]           --\n",
      "|    |    └─Conv2d: 3-13                 [-1, 128, 7, 7]           73,728\n",
      "|    |    └─BatchNorm2d: 3-14            [-1, 128, 7, 7]           256\n",
      "|    |    └─ReLU: 3-15                   [-1, 128, 7, 7]           --\n",
      "|    |    └─Conv2d: 3-16                 [-1, 128, 7, 7]           147,456\n",
      "|    |    └─BatchNorm2d: 3-17            [-1, 128, 7, 7]           256\n",
      "|    |    └─ReLU: 3-18                   [-1, 128, 7, 7]           --\n",
      "|    └─BasicBlock: 2-9                   [-1, 128, 7, 7]           --\n",
      "|    |    └─Conv2d: 3-19                 [-1, 128, 7, 7]           147,456\n",
      "|    |    └─BatchNorm2d: 3-20            [-1, 128, 7, 7]           256\n",
      "|    |    └─ReLU: 3-21                   [-1, 128, 7, 7]           --\n",
      "|    |    └─Conv2d: 3-22                 [-1, 128, 7, 7]           147,456\n",
      "|    |    └─BatchNorm2d: 3-23            [-1, 128, 7, 7]           256\n",
      "|    |    └─ReLU: 3-24                   [-1, 128, 7, 7]           --\n",
      "|    └─BasicBlock: 2-10                  [-1, 256, 4, 4]           --\n",
      "|    |    └─Conv2d: 3-25                 [-1, 256, 4, 4]           294,912\n",
      "|    |    └─BatchNorm2d: 3-26            [-1, 256, 4, 4]           512\n",
      "|    |    └─ReLU: 3-27                   [-1, 256, 4, 4]           --\n",
      "|    |    └─Conv2d: 3-28                 [-1, 256, 4, 4]           589,824\n",
      "|    |    └─BatchNorm2d: 3-29            [-1, 256, 4, 4]           512\n",
      "|    |    └─ReLU: 3-30                   [-1, 256, 4, 4]           --\n",
      "|    └─BasicBlock: 2-11                  [-1, 256, 4, 4]           --\n",
      "|    |    └─Conv2d: 3-31                 [-1, 256, 4, 4]           589,824\n",
      "|    |    └─BatchNorm2d: 3-32            [-1, 256, 4, 4]           512\n",
      "|    |    └─ReLU: 3-33                   [-1, 256, 4, 4]           --\n",
      "|    |    └─Conv2d: 3-34                 [-1, 256, 4, 4]           589,824\n",
      "|    |    └─BatchNorm2d: 3-35            [-1, 256, 4, 4]           512\n",
      "|    |    └─ReLU: 3-36                   [-1, 256, 4, 4]           --\n",
      "|    └─BasicBlock: 2-12                  [-1, 512, 2, 2]           --\n",
      "|    |    └─Conv2d: 3-37                 [-1, 512, 2, 2]           1,179,648\n",
      "|    |    └─BatchNorm2d: 3-38            [-1, 512, 2, 2]           1,024\n",
      "|    |    └─ReLU: 3-39                   [-1, 512, 2, 2]           --\n",
      "|    |    └─Conv2d: 3-40                 [-1, 512, 2, 2]           2,359,296\n",
      "|    |    └─BatchNorm2d: 3-41            [-1, 512, 2, 2]           1,024\n",
      "|    |    └─ReLU: 3-42                   [-1, 512, 2, 2]           --\n",
      "|    └─BasicBlock: 2-13                  [-1, 512, 2, 2]           --\n",
      "|    |    └─Conv2d: 3-43                 [-1, 512, 2, 2]           2,359,296\n",
      "|    |    └─BatchNorm2d: 3-44            [-1, 512, 2, 2]           1,024\n",
      "|    |    └─ReLU: 3-45                   [-1, 512, 2, 2]           --\n",
      "|    |    └─Conv2d: 3-46                 [-1, 512, 2, 2]           2,359,296\n",
      "|    |    └─BatchNorm2d: 3-47            [-1, 512, 2, 2]           1,024\n",
      "|    |    └─ReLU: 3-48                   [-1, 512, 2, 2]           --\n",
      "|    └─AdaptiveAvgPool2d: 2-14           [-1, 512, 1, 1]           --\n",
      "├─Sequential: 1-2                        [-1, 10]                  --\n",
      "|    └─Dropout: 2-15                     [-1, 512]                 --\n",
      "|    └─Linear: 2-16                      [-1, 10]                  5,130\n",
      "==========================================================================================\n",
      "Total params: 11,001,546\n",
      "Trainable params: 11,001,546\n",
      "Non-trainable params: 0\n",
      "Total mult-adds (M): 144.70\n",
      "==========================================================================================\n",
      "Input size (MB): 0.00\n",
      "Forward/backward pass size (MB): 2.29\n",
      "Params size (MB): 41.97\n",
      "Estimated Total Size (MB): 44.26\n",
      "==========================================================================================\n",
      "\n",
      "==== Starting Train ====\n"
     ]
    },
    {
     "name": "stderr",
     "output_type": "stream",
     "text": [
      "100%|██████████| 375/375 [02:59<00:00,  2.08it/s]\n"
     ]
    },
    {
     "name": "stdout",
     "output_type": "stream",
     "text": [
      "Train Epoch 1\n",
      "Train set: \n",
      "Loss: 0.001071652537890865, Accuracy: 46042.0/48000(95.9208 %)\n",
      "Val set: \n",
      "Loss: 0.0006663009587985774, Accuracy: 11726.0/12000(97.7167 %)\n",
      "\n"
     ]
    },
    {
     "name": "stderr",
     "output_type": "stream",
     "text": [
      "100%|██████████| 375/375 [03:13<00:00,  1.94it/s]\n"
     ]
    },
    {
     "name": "stdout",
     "output_type": "stream",
     "text": [
      "Train Epoch 2\n",
      "Train set: \n",
      "Loss: 0.00044453693726245546, Accuracy: 47215.0/48000(98.3646 %)\n",
      "Val set: \n",
      "Loss: 0.000435546659398824, Accuracy: 11811.0/12000(98.425 %)\n",
      "\n"
     ]
    },
    {
     "name": "stderr",
     "output_type": "stream",
     "text": [
      "100%|██████████| 375/375 [03:16<00:00,  1.91it/s]\n"
     ]
    },
    {
     "name": "stdout",
     "output_type": "stream",
     "text": [
      "Train Epoch 3\n",
      "Train set: \n",
      "Loss: 0.0003090830200320246, Accuracy: 47457.0/48000(98.86880000000001 %)\n",
      "Val set: \n",
      "Loss: 0.0004363608357186119, Accuracy: 11810.0/12000(98.4167 %)\n",
      "\n"
     ]
    },
    {
     "name": "stderr",
     "output_type": "stream",
     "text": [
      "100%|██████████| 375/375 [03:17<00:00,  1.90it/s]\n"
     ]
    },
    {
     "name": "stdout",
     "output_type": "stream",
     "text": [
      "Train Epoch 4\n",
      "Train set: \n",
      "Loss: 0.00028360929705741, Accuracy: 47507.0/48000(98.9729 %)\n",
      "Val set: \n",
      "Loss: 0.0004579372573643923, Accuracy: 11813.0/12000(98.4417 %)\n",
      "\n"
     ]
    },
    {
     "name": "stderr",
     "output_type": "stream",
     "text": [
      "100%|██████████| 375/375 [03:15<00:00,  1.92it/s]\n"
     ]
    },
    {
     "name": "stdout",
     "output_type": "stream",
     "text": [
      "Train Epoch 5\n",
      "Train set: \n",
      "Loss: 0.00023048236257151682, Accuracy: 47598.0/48000(99.1625 %)\n",
      "Val set: \n",
      "Loss: 0.00027953476245359826, Accuracy: 11897.0/12000(99.1417 %)\n",
      "\n",
      "Test set: \n",
      "Loss: 0.00019828542088562245, Accuracy: 9930.0/10000(99.3 %)\n",
      "\n",
      "training time:  1012.8489742279053\n"
     ]
    }
   ],
   "source": [
    "resnet = Model(128, 5, 0.001, 0.5, \"resnet\", \"adamw\")\n",
    "\n",
    "start_time = time.time()\n",
    "resnet.train()\n",
    "end_time = time.time()\n",
    "\n",
    "print(\"training time: \", end_time - start_time)"
   ]
  },
  {
   "cell_type": "markdown",
   "metadata": {},
   "source": [
    "### 2.4 MobileNet"
   ]
  },
  {
   "cell_type": "code",
   "execution_count": 8,
   "metadata": {},
   "outputs": [
    {
     "name": "stdout",
     "output_type": "stream",
     "text": [
      "===== Traning Info =====\n",
      "Device: cuda\n",
      "Model: mobilenet\n",
      "Model Info:\n",
      "\n",
      "==========================================================================================\n",
      "Layer (type:depth-idx)                   Output Shape              Param #\n",
      "==========================================================================================\n",
      "├─Sequential: 1-1                        [-1, 1024, 1, 1]          --\n",
      "|    └─Upsample: 2-1                     [-1, 1, 56, 56]           --\n",
      "|    └─Conv2d: 2-2                       [-1, 32, 28, 28]          288\n",
      "|    └─BatchNorm2d: 2-3                  [-1, 32, 28, 28]          64\n",
      "|    └─ReLU: 2-4                         [-1, 32, 28, 28]          --\n",
      "|    └─DepthwiseSeparableConv: 2-5       [-1, 64, 28, 28]          --\n",
      "|    |    └─Conv2d: 3-1                  [-1, 32, 28, 28]          288\n",
      "|    |    └─BatchNorm2d: 3-2             [-1, 32, 28, 28]          64\n",
      "|    |    └─ReLU: 3-3                    [-1, 32, 28, 28]          --\n",
      "|    |    └─Conv2d: 3-4                  [-1, 64, 28, 28]          2,048\n",
      "|    |    └─BatchNorm2d: 3-5             [-1, 64, 28, 28]          128\n",
      "|    |    └─ReLU: 3-6                    [-1, 64, 28, 28]          --\n",
      "|    └─DepthwiseSeparableConv: 2-6       [-1, 128, 14, 14]         --\n",
      "|    |    └─Conv2d: 3-7                  [-1, 64, 14, 14]          576\n",
      "|    |    └─BatchNorm2d: 3-8             [-1, 64, 14, 14]          128\n",
      "|    |    └─ReLU: 3-9                    [-1, 64, 14, 14]          --\n",
      "|    |    └─Conv2d: 3-10                 [-1, 128, 14, 14]         8,192\n",
      "|    |    └─BatchNorm2d: 3-11            [-1, 128, 14, 14]         256\n",
      "|    |    └─ReLU: 3-12                   [-1, 128, 14, 14]         --\n",
      "|    └─DepthwiseSeparableConv: 2-7       [-1, 128, 14, 14]         --\n",
      "|    |    └─Conv2d: 3-13                 [-1, 128, 14, 14]         1,152\n",
      "|    |    └─BatchNorm2d: 3-14            [-1, 128, 14, 14]         256\n",
      "|    |    └─ReLU: 3-15                   [-1, 128, 14, 14]         --\n",
      "|    |    └─Conv2d: 3-16                 [-1, 128, 14, 14]         16,384\n",
      "|    |    └─BatchNorm2d: 3-17            [-1, 128, 14, 14]         256\n",
      "|    |    └─ReLU: 3-18                   [-1, 128, 14, 14]         --\n",
      "|    └─DepthwiseSeparableConv: 2-8       [-1, 256, 7, 7]           --\n",
      "|    |    └─Conv2d: 3-19                 [-1, 128, 7, 7]           1,152\n",
      "|    |    └─BatchNorm2d: 3-20            [-1, 128, 7, 7]           256\n",
      "|    |    └─ReLU: 3-21                   [-1, 128, 7, 7]           --\n",
      "|    |    └─Conv2d: 3-22                 [-1, 256, 7, 7]           32,768\n",
      "|    |    └─BatchNorm2d: 3-23            [-1, 256, 7, 7]           512\n",
      "|    |    └─ReLU: 3-24                   [-1, 256, 7, 7]           --\n",
      "|    └─DepthwiseSeparableConv: 2-9       [-1, 256, 7, 7]           --\n",
      "|    |    └─Conv2d: 3-25                 [-1, 256, 7, 7]           2,304\n",
      "|    |    └─BatchNorm2d: 3-26            [-1, 256, 7, 7]           512\n",
      "|    |    └─ReLU: 3-27                   [-1, 256, 7, 7]           --\n",
      "|    |    └─Conv2d: 3-28                 [-1, 256, 7, 7]           65,536\n",
      "|    |    └─BatchNorm2d: 3-29            [-1, 256, 7, 7]           512\n",
      "|    |    └─ReLU: 3-30                   [-1, 256, 7, 7]           --\n",
      "|    └─DepthwiseSeparableConv: 2-10      [-1, 512, 4, 4]           --\n",
      "|    |    └─Conv2d: 3-31                 [-1, 256, 4, 4]           2,304\n",
      "|    |    └─BatchNorm2d: 3-32            [-1, 256, 4, 4]           512\n",
      "|    |    └─ReLU: 3-33                   [-1, 256, 4, 4]           --\n",
      "|    |    └─Conv2d: 3-34                 [-1, 512, 4, 4]           131,072\n",
      "|    |    └─BatchNorm2d: 3-35            [-1, 512, 4, 4]           1,024\n",
      "|    |    └─ReLU: 3-36                   [-1, 512, 4, 4]           --\n",
      "|    └─DepthwiseSeparableConv: 2-11      [-1, 512, 4, 4]           --\n",
      "|    |    └─Conv2d: 3-37                 [-1, 512, 4, 4]           4,608\n",
      "|    |    └─BatchNorm2d: 3-38            [-1, 512, 4, 4]           1,024\n",
      "|    |    └─ReLU: 3-39                   [-1, 512, 4, 4]           --\n",
      "|    |    └─Conv2d: 3-40                 [-1, 512, 4, 4]           262,144\n",
      "|    |    └─BatchNorm2d: 3-41            [-1, 512, 4, 4]           1,024\n",
      "|    |    └─ReLU: 3-42                   [-1, 512, 4, 4]           --\n",
      "|    └─DepthwiseSeparableConv: 2-12      [-1, 512, 4, 4]           --\n",
      "|    |    └─Conv2d: 3-43                 [-1, 512, 4, 4]           4,608\n",
      "|    |    └─BatchNorm2d: 3-44            [-1, 512, 4, 4]           1,024\n",
      "|    |    └─ReLU: 3-45                   [-1, 512, 4, 4]           --\n",
      "|    |    └─Conv2d: 3-46                 [-1, 512, 4, 4]           262,144\n",
      "|    |    └─BatchNorm2d: 3-47            [-1, 512, 4, 4]           1,024\n",
      "|    |    └─ReLU: 3-48                   [-1, 512, 4, 4]           --\n",
      "|    └─DepthwiseSeparableConv: 2-13      [-1, 512, 4, 4]           --\n",
      "|    |    └─Conv2d: 3-49                 [-1, 512, 4, 4]           4,608\n",
      "|    |    └─BatchNorm2d: 3-50            [-1, 512, 4, 4]           1,024\n",
      "|    |    └─ReLU: 3-51                   [-1, 512, 4, 4]           --\n",
      "|    |    └─Conv2d: 3-52                 [-1, 512, 4, 4]           262,144\n",
      "|    |    └─BatchNorm2d: 3-53            [-1, 512, 4, 4]           1,024\n",
      "|    |    └─ReLU: 3-54                   [-1, 512, 4, 4]           --\n",
      "|    └─DepthwiseSeparableConv: 2-14      [-1, 512, 4, 4]           --\n",
      "|    |    └─Conv2d: 3-55                 [-1, 512, 4, 4]           4,608\n",
      "|    |    └─BatchNorm2d: 3-56            [-1, 512, 4, 4]           1,024\n",
      "|    |    └─ReLU: 3-57                   [-1, 512, 4, 4]           --\n",
      "|    |    └─Conv2d: 3-58                 [-1, 512, 4, 4]           262,144\n",
      "|    |    └─BatchNorm2d: 3-59            [-1, 512, 4, 4]           1,024\n",
      "|    |    └─ReLU: 3-60                   [-1, 512, 4, 4]           --\n",
      "|    └─DepthwiseSeparableConv: 2-15      [-1, 512, 4, 4]           --\n",
      "|    |    └─Conv2d: 3-61                 [-1, 512, 4, 4]           4,608\n",
      "|    |    └─BatchNorm2d: 3-62            [-1, 512, 4, 4]           1,024\n",
      "|    |    └─ReLU: 3-63                   [-1, 512, 4, 4]           --\n",
      "|    |    └─Conv2d: 3-64                 [-1, 512, 4, 4]           262,144\n",
      "|    |    └─BatchNorm2d: 3-65            [-1, 512, 4, 4]           1,024\n",
      "|    |    └─ReLU: 3-66                   [-1, 512, 4, 4]           --\n",
      "|    └─DepthwiseSeparableConv: 2-16      [-1, 1024, 2, 2]          --\n",
      "|    |    └─Conv2d: 3-67                 [-1, 512, 2, 2]           4,608\n",
      "|    |    └─BatchNorm2d: 3-68            [-1, 512, 2, 2]           1,024\n",
      "|    |    └─ReLU: 3-69                   [-1, 512, 2, 2]           --\n",
      "|    |    └─Conv2d: 3-70                 [-1, 1024, 2, 2]          524,288\n",
      "|    |    └─BatchNorm2d: 3-71            [-1, 1024, 2, 2]          2,048\n",
      "|    |    └─ReLU: 3-72                   [-1, 1024, 2, 2]          --\n",
      "|    └─DepthwiseSeparableConv: 2-17      [-1, 1024, 2, 2]          --\n",
      "|    |    └─Conv2d: 3-73                 [-1, 1024, 2, 2]          9,216\n",
      "|    |    └─BatchNorm2d: 3-74            [-1, 1024, 2, 2]          2,048\n",
      "|    |    └─ReLU: 3-75                   [-1, 1024, 2, 2]          --\n",
      "|    |    └─Conv2d: 3-76                 [-1, 1024, 2, 2]          1,048,576\n",
      "|    |    └─BatchNorm2d: 3-77            [-1, 1024, 2, 2]          2,048\n",
      "|    |    └─ReLU: 3-78                   [-1, 1024, 2, 2]          --\n",
      "|    └─AdaptiveAvgPool2d: 2-18           [-1, 1024, 1, 1]          --\n",
      "|    └─Dropout: 2-19                     [-1, 1024, 1, 1]          --\n",
      "├─Linear: 1-2                            [-1, 10]                  10,250\n",
      "==========================================================================================\n",
      "Total params: 3,216,650\n",
      "Trainable params: 3,216,650\n",
      "Non-trainable params: 0\n",
      "Total mult-adds (M): 48.43\n",
      "==========================================================================================\n",
      "Input size (MB): 0.00\n",
      "Forward/backward pass size (MB): 5.20\n",
      "Params size (MB): 12.27\n",
      "Estimated Total Size (MB): 17.47\n",
      "==========================================================================================\n",
      "\n",
      "==== Starting Train ====\n"
     ]
    },
    {
     "name": "stderr",
     "output_type": "stream",
     "text": [
      "100%|██████████| 375/375 [02:13<00:00,  2.80it/s]\n"
     ]
    },
    {
     "name": "stdout",
     "output_type": "stream",
     "text": [
      "Train Epoch 1\n",
      "Train set: \n",
      "Loss: 0.00291118817923901, Accuracy: 41944.0/48000(87.38329999999999 %)\n",
      "Val set: \n",
      "Loss: 0.0008639835971407593, Accuracy: 11563.0/12000(96.3583 %)\n",
      "\n"
     ]
    },
    {
     "name": "stderr",
     "output_type": "stream",
     "text": [
      "100%|██████████| 375/375 [02:01<00:00,  3.08it/s]\n"
     ]
    },
    {
     "name": "stdout",
     "output_type": "stream",
     "text": [
      "Train Epoch 2\n",
      "Train set: \n",
      "Loss: 0.0006048704423204375, Accuracy: 46868.0/48000(97.6417 %)\n",
      "Val set: \n",
      "Loss: 0.0005766181896130244, Accuracy: 11746.0/12000(97.88329999999999 %)\n",
      "\n"
     ]
    },
    {
     "name": "stderr",
     "output_type": "stream",
     "text": [
      "100%|██████████| 375/375 [01:54<00:00,  3.28it/s]\n"
     ]
    },
    {
     "name": "stdout",
     "output_type": "stream",
     "text": [
      "Train Epoch 3\n",
      "Train set: \n",
      "Loss: 0.00038038448255004674, Accuracy: 47307.0/48000(98.5563 %)\n",
      "Val set: \n",
      "Loss: 0.0004952482649241574, Accuracy: 11787.0/12000(98.225 %)\n",
      "\n"
     ]
    },
    {
     "name": "stderr",
     "output_type": "stream",
     "text": [
      "100%|██████████| 375/375 [02:03<00:00,  3.05it/s]\n"
     ]
    },
    {
     "name": "stdout",
     "output_type": "stream",
     "text": [
      "Train Epoch 4\n",
      "Train set: \n",
      "Loss: 0.00030726125288250234, Accuracy: 47419.0/48000(98.7896 %)\n",
      "Val set: \n",
      "Loss: 0.0005083263519142444, Accuracy: 11799.0/12000(98.32499999999999 %)\n",
      "\n"
     ]
    },
    {
     "name": "stderr",
     "output_type": "stream",
     "text": [
      "100%|██████████| 375/375 [01:55<00:00,  3.25it/s]\n"
     ]
    },
    {
     "name": "stdout",
     "output_type": "stream",
     "text": [
      "Train Epoch 5\n",
      "Train set: \n",
      "Loss: 0.00025363478747021873, Accuracy: 47553.0/48000(99.0688 %)\n",
      "Val set: \n",
      "Loss: 0.0005847981168190017, Accuracy: 11754.0/12000(97.95 %)\n",
      "\n",
      "Test set: \n",
      "Loss: 0.0004324719592448673, Accuracy: 9836.0/10000(98.36 %)\n",
      "\n",
      "training time:  666.9487800598145\n"
     ]
    }
   ],
   "source": [
    "mobilenet = Model(128, 5, 0.001, 0.5, \"mobilenet\", \"adamw\")\n",
    "\n",
    "start_time = time.time()\n",
    "mobilenet.train()\n",
    "end_time = time.time()\n",
    "\n",
    "print(\"training time: \", end_time - start_time)"
   ]
  },
  {
   "cell_type": "markdown",
   "metadata": {},
   "source": [
    "### 2.5 GoogleNet"
   ]
  },
  {
   "cell_type": "code",
   "execution_count": 33,
   "metadata": {},
   "outputs": [
    {
     "name": "stdout",
     "output_type": "stream",
     "text": [
      "===== Traning Info =====\n",
      "Device: cuda\n",
      "Model: googlenet\n",
      "Model Info:\n",
      "\n",
      "==========================================================================================\n",
      "Layer (type:depth-idx)                   Output Shape              Param #\n",
      "==========================================================================================\n",
      "├─Sequential: 1-1                        [-1, 64, 14, 14]          --\n",
      "|    └─Upsample: 2-1                     [-1, 1, 56, 56]           --\n",
      "|    └─Conv2d: 2-2                       [-1, 64, 28, 28]          3,200\n",
      "|    └─ReLU: 2-3                         [-1, 64, 28, 28]          --\n",
      "|    └─MaxPool2d: 2-4                    [-1, 64, 14, 14]          --\n",
      "├─Sequential: 1-2                        [-1, 192, 7, 7]           --\n",
      "|    └─Conv2d: 2-5                       [-1, 64, 14, 14]          4,160\n",
      "|    └─ReLU: 2-6                         [-1, 64, 14, 14]          --\n",
      "|    └─Conv2d: 2-7                       [-1, 192, 14, 14]         110,784\n",
      "|    └─ReLU: 2-8                         [-1, 192, 14, 14]         --\n",
      "|    └─MaxPool2d: 2-9                    [-1, 192, 7, 7]           --\n",
      "├─Sequential: 1-3                        [-1, 1024, 1, 1]          --\n",
      "|    └─InceptionModule: 2-10             [-1, 256, 7, 7]           --\n",
      "|    |    └─Sequential: 3-1              [-1, 64, 7, 7]            12,352\n",
      "|    |    └─Sequential: 3-2              [-1, 128, 7, 7]           129,248\n",
      "|    |    └─Sequential: 3-3              [-1, 32, 7, 7]            15,920\n",
      "|    |    └─Sequential: 3-4              [-1, 32, 7, 7]            6,176\n",
      "|    └─InceptionModule: 2-11             [-1, 480, 7, 7]           --\n",
      "|    |    └─Sequential: 3-5              [-1, 128, 7, 7]           32,896\n",
      "|    |    └─Sequential: 3-6              [-1, 192, 7, 7]           254,272\n",
      "|    |    └─Sequential: 3-7              [-1, 96, 7, 7]            85,120\n",
      "|    |    └─Sequential: 3-8              [-1, 64, 7, 7]            16,448\n",
      "|    └─MaxPool2d: 2-12                   [-1, 480, 4, 4]           --\n",
      "|    └─InceptionModule: 2-13             [-1, 512, 4, 4]           --\n",
      "|    |    └─Sequential: 3-9              [-1, 192, 4, 4]           92,352\n",
      "|    |    └─Sequential: 3-10             [-1, 208, 4, 4]           226,096\n",
      "|    |    └─Sequential: 3-11             [-1, 48, 4, 4]            26,944\n",
      "|    |    └─Sequential: 3-12             [-1, 64, 4, 4]            30,784\n",
      "|    └─InceptionModule: 2-14             [-1, 512, 4, 4]           --\n",
      "|    |    └─Sequential: 3-13             [-1, 160, 4, 4]           82,080\n",
      "|    |    └─Sequential: 3-14             [-1, 224, 4, 4]           283,472\n",
      "|    |    └─Sequential: 3-15             [-1, 64, 4, 4]            50,776\n",
      "|    |    └─Sequential: 3-16             [-1, 64, 4, 4]            32,832\n",
      "|    └─InceptionModule: 2-15             [-1, 512, 4, 4]           --\n",
      "|    |    └─Sequential: 3-17             [-1, 128, 4, 4]           65,664\n",
      "|    |    └─Sequential: 3-18             [-1, 256, 4, 4]           360,832\n",
      "|    |    └─Sequential: 3-19             [-1, 64, 4, 4]            50,776\n",
      "|    |    └─Sequential: 3-20             [-1, 64, 4, 4]            32,832\n",
      "|    └─InceptionModule: 2-16             [-1, 528, 4, 4]           --\n",
      "|    |    └─Sequential: 3-21             [-1, 112, 4, 4]           57,456\n",
      "|    |    └─Sequential: 3-22             [-1, 288, 4, 4]           447,408\n",
      "|    |    └─Sequential: 3-23             [-1, 64, 4, 4]            67,680\n",
      "|    |    └─Sequential: 3-24             [-1, 64, 4, 4]            32,832\n",
      "|    └─InceptionModule: 2-17             [-1, 832, 4, 4]           --\n",
      "|    |    └─Sequential: 3-25             [-1, 256, 4, 4]           135,424\n",
      "|    |    └─Sequential: 3-26             [-1, 320, 4, 4]           545,760\n",
      "|    |    └─Sequential: 3-27             [-1, 128, 4, 4]           119,456\n",
      "|    |    └─Sequential: 3-28             [-1, 128, 4, 4]           67,712\n",
      "|    └─MaxPool2d: 2-18                   [-1, 832, 2, 2]           --\n",
      "|    └─InceptionModule: 2-19             [-1, 832, 2, 2]           --\n",
      "|    |    └─Sequential: 3-29             [-1, 256, 2, 2]           213,248\n",
      "|    |    └─Sequential: 3-30             [-1, 320, 2, 2]           594,400\n",
      "|    |    └─Sequential: 3-31             [-1, 128, 2, 2]           129,184\n",
      "|    |    └─Sequential: 3-32             [-1, 128, 2, 2]           106,624\n",
      "|    └─InceptionModule: 2-20             [-1, 1024, 2, 2]          --\n",
      "|    |    └─Sequential: 3-33             [-1, 384, 2, 2]           319,872\n",
      "|    |    └─Sequential: 3-34             [-1, 384, 2, 2]           823,872\n",
      "|    |    └─Sequential: 3-35             [-1, 128, 2, 2]           193,712\n",
      "|    |    └─Sequential: 3-36             [-1, 128, 2, 2]           106,624\n",
      "|    └─AdaptiveAvgPool2d: 2-21           [-1, 1024, 1, 1]          --\n",
      "|    └─Dropout: 2-22                     [-1, 1024, 1, 1]          --\n",
      "├─Linear: 1-4                            [-1, 10]                  10,250\n",
      "==========================================================================================\n",
      "Total params: 5,977,530\n",
      "Trainable params: 5,977,530\n",
      "Non-trainable params: 0\n",
      "Total mult-adds (M): 124.44\n",
      "==========================================================================================\n",
      "Input size (MB): 0.00\n",
      "Forward/backward pass size (MB): 1.66\n",
      "Params size (MB): 22.80\n",
      "Estimated Total Size (MB): 24.47\n",
      "==========================================================================================\n",
      "\n",
      "==== Starting Train ====\n"
     ]
    },
    {
     "name": "stderr",
     "output_type": "stream",
     "text": [
      "100%|██████████| 375/375 [01:57<00:00,  3.18it/s]\n"
     ]
    },
    {
     "name": "stdout",
     "output_type": "stream",
     "text": [
      "Train Epoch 1\n",
      "Train set: \n",
      "Loss: 0.010369869309477508, Accuracy: 23821.0/48000(49.6271 %)\n",
      "Val set: \n",
      "Loss: 0.0018033751087884109, Accuracy: 11206.0/12000(93.3833 %)\n",
      "\n"
     ]
    },
    {
     "name": "stderr",
     "output_type": "stream",
     "text": [
      "100%|██████████| 375/375 [02:06<00:00,  2.96it/s]\n"
     ]
    },
    {
     "name": "stdout",
     "output_type": "stream",
     "text": [
      "Train Epoch 2\n",
      "Train set: \n",
      "Loss: 0.0010314033843266466, Accuracy: 46143.0/48000(96.1313 %)\n",
      "Val set: \n",
      "Loss: 0.0008103156376940509, Accuracy: 11643.0/12000(97.02499999999999 %)\n",
      "\n"
     ]
    },
    {
     "name": "stderr",
     "output_type": "stream",
     "text": [
      "100%|██████████| 375/375 [02:09<00:00,  2.89it/s]\n"
     ]
    },
    {
     "name": "stdout",
     "output_type": "stream",
     "text": [
      "Train Epoch 3\n",
      "Train set: \n",
      "Loss: 0.0006154281115353418, Accuracy: 46887.0/48000(97.6812 %)\n",
      "Val set: \n",
      "Loss: 0.0006275777861786385, Accuracy: 11710.0/12000(97.5833 %)\n",
      "\n"
     ]
    },
    {
     "name": "stderr",
     "output_type": "stream",
     "text": [
      "100%|██████████| 375/375 [02:10<00:00,  2.87it/s]\n"
     ]
    },
    {
     "name": "stdout",
     "output_type": "stream",
     "text": [
      "Train Epoch 4\n",
      "Train set: \n",
      "Loss: 0.0004439986320430762, Accuracy: 47211.0/48000(98.35629999999999 %)\n",
      "Val set: \n",
      "Loss: 0.0005684352870254467, Accuracy: 11736.0/12000(97.8 %)\n",
      "\n"
     ]
    },
    {
     "name": "stderr",
     "output_type": "stream",
     "text": [
      "100%|██████████| 375/375 [02:09<00:00,  2.89it/s]\n"
     ]
    },
    {
     "name": "stdout",
     "output_type": "stream",
     "text": [
      "Train Epoch 5\n",
      "Train set: \n",
      "Loss: 0.0003455357398997876, Accuracy: 47388.0/48000(98.725 %)\n",
      "Val set: \n",
      "Loss: 0.0004067888509404535, Accuracy: 11823.0/12000(98.52499999999999 %)\n",
      "\n",
      "Test set: \n",
      "Loss: 0.0003341736723232316, Accuracy: 9880.0/10000(98.8 %)\n",
      "\n",
      "training time:  693.5630204677582\n"
     ]
    }
   ],
   "source": [
    "googlenet = Model(128, 5, 0.001, 0.2, \"googlenet\", \"adamw\")\n",
    "\n",
    "start_time = time.time()\n",
    "googlenet.train()\n",
    "end_time = time.time()\n",
    "\n",
    "print(\"training time: \", end_time - start_time)"
   ]
  },
  {
   "cell_type": "markdown",
   "metadata": {},
   "source": [
    "### 2.6 AlexNet(论文版本)"
   ]
  },
  {
   "cell_type": "code",
   "execution_count": 15,
   "metadata": {},
   "outputs": [],
   "source": [
    "# alexnetlarge = Model(64, 5, 0.001, 0.5, \"alexnetlarge\", \"adamw\")\n",
    "\n",
    "# start_time = time.time()\n",
    "# alexnetlarge.train()\n",
    "# end_time = time.time()\n",
    "\n",
    "# print(\"training time: \", end_time - start_time)"
   ]
  },
  {
   "cell_type": "markdown",
   "metadata": {},
   "source": [
    "### 2.7 结果"
   ]
  },
  {
   "cell_type": "markdown",
   "metadata": {},
   "source": [
    "#### 2.7.1 验证集准确率随训练步数变化图"
   ]
  },
  {
   "cell_type": "code",
   "execution_count": 34,
   "metadata": {},
   "outputs": [
    {
     "data": {
      "image/png": "[encoded data removed]",
      "text/plain": [
       "<Figure size 640x480 with 1 Axes>"
      ]
     },
     "metadata": {},
     "output_type": "display_data"
    }
   ],
   "source": [
    "from matplotlib import pyplot as plt\n",
    "\n",
    "plt.plot(lenet.val_accuracy, label=\"LeNet\")\n",
    "plt.plot(alexnet.val_accuracy, label=\"AlexNet\")\n",
    "plt.plot(resnet.val_accuracy, label=\"ResNet\")\n",
    "plt.plot(mobilenet.val_accuracy, label=\"MobileNet\")\n",
    "plt.plot(googlenet.val_accuracy, label=\"GoogleNet\")\n",
    "\n",
    "plt.legend()\n",
    "plt.title(\"Val accuracy with epochs\")\n",
    "\n",
    "plt.show()"
   ]
  },
  {
   "cell_type": "markdown",
   "metadata": {},
   "source": [
    "#### 2.7.2 训练集损失随每批次数据变化图"
   ]
  },
  {
   "cell_type": "code",
   "execution_count": 35,
   "metadata": {},
   "outputs": [
    {
     "data": {
      "image/png": "[encoded data removed]",
      "text/plain": [
       "<Figure size 640x480 with 1 Axes>"
      ]
     },
     "metadata": {},
     "output_type": "display_data"
    }
   ],
   "source": [
    "plt.plot(lenet.train_loss, label=\"LeNet\")\n",
    "plt.plot(alexnet.train_loss, label=\"AlexNet\")\n",
    "plt.plot(resnet.train_loss, label=\"ResNet\")\n",
    "plt.plot(mobilenet.train_loss, label=\"MobileNet\")\n",
    "plt.plot(googlenet.train_loss, label=\"GoogleNet\")\n",
    "\n",
    "plt.legend()\n",
    "plt.title(\"Train Loss with batchs\")\n",
    "\n",
    "plt.show()"
   ]
  }
 ],
 "metadata": {
  "kernelspec": {
   "display_name": "base",
   "language": "python",
   "name": "python3"
  },
  "language_info": {
   "codemirror_mode": {
    "name": "ipython",
    "version": 3
   },
   "file_extension": ".py",
   "mimetype": "text/x-python",
   "name": "python",
   "nbconvert_exporter": "python",
   "pygments_lexer": "ipython3",
   "version": "3.11.5"
  }
 },
 "nbformat": 4,
 "nbformat_minor": 2
}
